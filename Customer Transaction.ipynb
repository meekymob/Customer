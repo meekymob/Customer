{
 "cells": [
  {
   "cell_type": "code",
   "execution_count": 28,
   "id": "36d9b8fd",
   "metadata": {},
   "outputs": [],
   "source": [
    "class Customer():                                      # Customer Class\n",
    "    pin = 123                                          # Default customer pin         \n",
    "    balance = 500                                      # Default balance\n",
    "    attempt = 0                                        # Number of attempt\n",
    "    correct = False                                    # Verify attempt\n",
    "    def __init__(self):                                # Constructor\n",
    "        pass\n",
    "    def login(self):                                   # Function to peform customer transaction\n",
    "        choice_display = {1: \"Check Balance\", 2: \"Deposit\", 3: \"Withdraw\", 4: \"EXIT\"}  # Customer's Option\n",
    "        user_display = False                                                           # Default display \n",
    "        try:\n",
    "            while self.attempt<3 and self.correct==False:      # Check if user's attempt is correct and not more than 3\n",
    "                pin_message = float(input('Enter your pin: '))\n",
    "                if pin_message==self.pin:\n",
    "                    self.correct=True\n",
    "                else:\n",
    "                    print(\"Sorry, Invalid Pin\")\n",
    "                self.attempt+=1\n",
    "            if self.correct:                                 # Displays welcome message if pin is successful\n",
    "                print(\"Welcome!\")\n",
    "                print(\"*\"*20 + \"ATM MENU\"+\"*\"*20)\n",
    "                for x,y in choice_display.items():           # Displays available options for users\n",
    "                    print(x,y)\n",
    "                    print(\"*\"*48)\n",
    "            while user_display==False:                       # Verify user's entry option for the right transaction\n",
    "                prompt = float(input('Enter your option between 1-4: '))\n",
    "                if prompt in choice_display.keys():\n",
    "                    if prompt==1:                              # Verify if user wants to check balance\n",
    "                        print(f'Your account balance is: ${self.balance:,}')\n",
    "                    elif prompt==2:                            # Verify if user wants to deposit\n",
    "                        deposit_input = float(input('Enter an amount to deposit: '))\n",
    "                        self.balance+=deposit_input\n",
    "                        print(f'Your account balance is: ${self.balance:,.2f}') \n",
    "                    elif prompt==3:                            # Verify if user wants to withdrawal\n",
    "                        withdraw_input = float(input('Enter an amount to withdraw: '))\n",
    "                        if withdraw_input>=self.balance:       # Check if withdrawal is above balance\n",
    "                            print(f'Sorry insufficient fund')\n",
    "                        else:\n",
    "                            self.balance-=withdraw_input\n",
    "                            print(f'Your account balance is: ${self.balance:,.2f}')\n",
    "                    elif prompt==4:                           # Check if user presses exit \n",
    "                        user_display=True\n",
    "                else:\n",
    "                    print(\"Sorry, Invalid Data Entry\")\n",
    "                if user_display:                              # Displays thank you message for the end of transaction\n",
    "                    print(\"Thank you\") \n",
    "        except Exception as Err:\n",
    "            print(f\"Invalid Pin Entry, {Err}\")"
   ]
  },
  {
   "cell_type": "code",
   "execution_count": 29,
   "id": "b684709a",
   "metadata": {},
   "outputs": [],
   "source": [
    "test = Customer()"
   ]
  },
  {
   "cell_type": "code",
   "execution_count": 30,
   "id": "3e797031",
   "metadata": {},
   "outputs": [
    {
     "name": "stdout",
     "output_type": "stream",
     "text": [
      "Enter your pin: 123\n",
      "Welcome!\n",
      "********************ATM MENU********************\n",
      "1 Check Balance\n",
      "************************************************\n",
      "2 Deposit\n",
      "************************************************\n",
      "3 Withdraw\n",
      "************************************************\n",
      "4 EXIT\n",
      "************************************************\n",
      "Enter your option between 1-4: 1\n",
      "Your account balance is: $500\n",
      "Enter your option between 1-4: 6000\n",
      "Sorry, Invalid Data Entry\n",
      "Enter your option between 1-4: 2\n",
      "Enter an amount to deposit: 6000\n",
      "Your account balance is: $6,500.00\n",
      "Enter your option between 1-4: 3\n",
      "Enter an amount to withdraw: 2500\n",
      "Your account balance is: $4,000.00\n",
      "Enter your option between 1-4: 4\n",
      "Thank you\n"
     ]
    }
   ],
   "source": [
    "test.login()"
   ]
  },
  {
   "cell_type": "code",
   "execution_count": null,
   "id": "6d45243e",
   "metadata": {},
   "outputs": [],
   "source": []
  }
 ],
 "metadata": {
  "kernelspec": {
   "display_name": "Python 3 (ipykernel)",
   "language": "python",
   "name": "python3"
  },
  "language_info": {
   "codemirror_mode": {
    "name": "ipython",
    "version": 3
   },
   "file_extension": ".py",
   "mimetype": "text/x-python",
   "name": "python",
   "nbconvert_exporter": "python",
   "pygments_lexer": "ipython3",
   "version": "3.9.12"
  }
 },
 "nbformat": 4,
 "nbformat_minor": 5
}
